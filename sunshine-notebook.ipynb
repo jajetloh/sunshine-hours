{
 "cells": [
  {
   "cell_type": "code",
   "execution_count": 1,
   "source": [
    "import numpy as np\n",
    "import pandas as pd\n",
    "from pandas_profiling import ProfileReport\n",
    "import os"
   ],
   "outputs": [],
   "metadata": {}
  },
  {
   "cell_type": "markdown",
   "source": [
    "# Pandas Profiling"
   ],
   "metadata": {}
  },
  {
   "cell_type": "code",
   "execution_count": 11,
   "source": [
    "df = pd.read_excel('CitiesBySunshineDuration.xlsx')\n",
    "profile = ProfileReport(df, title='Sunshine Data')\n",
    "display(profile)"
   ],
   "outputs": [],
   "metadata": {}
  },
  {
   "cell_type": "markdown",
   "source": [
    "# Attaching data"
   ],
   "metadata": {}
  },
  {
   "cell_type": "code",
   "execution_count": 30,
   "source": [
    "from tqdm import tqdm\n",
    "from geopy.geocoders import Nominatim\n",
    "\n",
    "def find_coordinates_and_save():\n",
    "\n",
    "    df = pd.read_excel('CitiesBySunshineDuration.xlsx')\n",
    "\n",
    "    latitudes = []\n",
    "    longitudes = []\n",
    "    failed = []\n",
    "    geolocator = Nominatim(user_agent='my-app-name')\n",
    "    for country, city in tqdm(df[['Country', 'City']].iloc):\n",
    "        try:\n",
    "            try:\n",
    "                # First try with explicitly setting country and city\n",
    "                location = geolocator.geocode({'country': country, 'city': city})\n",
    "                if location is None:\n",
    "                    raise ValueError('')\n",
    "            except:\n",
    "                # If fail, pass as a string to be parsed\n",
    "                location = geolocator.geocode(f'{city}, {country}')\n",
    "                if location is None:\n",
    "                    raise ValueError('')\n",
    "        except:\n",
    "            # Else report failed rows\n",
    "            failed.append((country, city))\n",
    "            location = {'latitude': None, 'longitude': None}\n",
    "        latitudes.append(location.latitude)\n",
    "        longitudes.append(location.longitude)\n",
    "    df['Latitude'] = latitudes\n",
    "    df['Longitude'] = longitudes\n",
    "    if len(failed) > 0:\n",
    "        print(f'{len(failed)} coordinates not found for: {failed}')\n",
    "    df.to_excel('CitiesBySunshineDurationWithCoordinates.xlsx', index=False)\n",
    "\n",
    "find_coordinates_and_save()"
   ],
   "outputs": [
    {
     "output_type": "stream",
     "name": "stderr",
     "text": [
      "1it [00:01,  1.04s/it]2021-08-15 15:32:59.892 WARNING urllib3.connectionpool: Retrying (Retry(total=1, connect=None, read=None, redirect=None, status=None)) after connection broken by 'ReadTimeoutError(\"HTTPSConnectionPool(host='nominatim.openstreetmap.org', port=443): Read timed out. (read timeout=1)\")': /search?country=Ivory+Coast&city=Bouak%C3%A9&format=json&limit=1\n",
      "59it [00:32,  2.03it/s]2021-08-15 15:33:30.980 WARNING urllib3.connectionpool: Retrying (Retry(total=1, connect=None, read=None, redirect=None, status=None)) after connection broken by 'ReadTimeoutError(\"HTTPSConnectionPool(host='nominatim.openstreetmap.org', port=443): Read timed out. (read timeout=1)\")': /search?country=South+Sudan&city=Wau&format=json&limit=1\n",
      "290it [02:33,  1.67it/s]2021-08-15 15:35:32.583 WARNING urllib3.connectionpool: Retrying (Retry(total=1, connect=None, read=None, redirect=None, status=None)) after connection broken by 'ReadTimeoutError(\"HTTPSConnectionPool(host='nominatim.openstreetmap.org', port=443): Read timed out. (read timeout=1)\")': /search?country=Saint+Pierre+and+Miquelon&city=Saint-Pierre&format=json&limit=1\n",
      "2021-08-15 15:35:34.270 WARNING urllib3.connectionpool: Retrying (Retry(total=0, connect=None, read=None, redirect=None, status=None)) after connection broken by 'ReadTimeoutError(\"HTTPSConnectionPool(host='nominatim.openstreetmap.org', port=443): Read timed out. (read timeout=1)\")': /search?country=Saint+Pierre+and+Miquelon&city=Saint-Pierre&format=json&limit=1\n",
      "295it [02:40,  1.24it/s]2021-08-15 15:35:39.140 WARNING urllib3.connectionpool: Retrying (Retry(total=1, connect=None, read=None, redirect=None, status=None)) after connection broken by 'ReadTimeoutError(\"HTTPSConnectionPool(host='nominatim.openstreetmap.org', port=443): Read timed out. (read timeout=1)\")': /search?country=Bolivia&city=La+Paz&format=json&limit=1\n",
      "337it [03:03,  2.00it/s]2021-08-15 15:41:12.652 WARNING urllib3.connectionpool: Retrying (Retry(total=1, connect=None, read=None, redirect=None, status=None)) after connection broken by 'ReadTimeoutError(\"HTTPSConnectionPool(host='nominatim.openstreetmap.org', port=443): Read timed out. (read timeout=1)\")': /search?country=Solomon+Islands&city=Honiara&format=json&limit=1\n",
      "338it [08:15,  1.47s/it]\n"
     ]
    }
   ],
   "metadata": {}
  },
  {
   "cell_type": "markdown",
   "source": [
    "# Daylight hours!"
   ],
   "metadata": {}
  },
  {
   "cell_type": "code",
   "execution_count": 33,
   "source": [
    "import datetime as datetime\n",
    "d1 = datetime.datetime(2021, 6, 1, 6)\n",
    "d2 = datetime.datetime(2025, 7, 1, 7,1,1)\n",
    "(d2 - d1)"
   ],
   "outputs": [
    {
     "output_type": "execute_result",
     "data": {
      "text/plain": [
       "datetime.timedelta(days=1491, seconds=3661)"
      ]
     },
     "metadata": {},
     "execution_count": 33
    }
   ],
   "metadata": {}
  },
  {
   "cell_type": "code",
   "execution_count": 37,
   "source": [
    "datetime.datetime(1899,12,31)"
   ],
   "outputs": [
    {
     "output_type": "execute_result",
     "data": {
      "text/plain": [
       "datetime.datetime(1899, 12, 31, 0, 0)"
      ]
     },
     "metadata": {},
     "execution_count": 37
    }
   ],
   "metadata": {}
  },
  {
   "cell_type": "code",
   "execution_count": 12,
   "source": [
    "df = pd.read_excel('NOAA_Solar_Calculations_day.xls')"
   ],
   "outputs": [],
   "metadata": {}
  },
  {
   "cell_type": "code",
   "execution_count": 83,
   "source": [
    "def to_rads(n: float):\n",
    "    return n / 360 * 2 * np.pi\n",
    "\n",
    "def to_degs(n: float):\n",
    "    return n / 2 / np.pi * 360\n",
    "\n",
    "def decimal_to_hms(y):\n",
    "    x = float(y)\n",
    "    hour = x // (1/24)\n",
    "    x -= hour * (1/24)\n",
    "    minute = x // (1/24/60)\n",
    "    x -= minute * (1/24/60)\n",
    "    second = x // (1/24/60/60)\n",
    "    x -= second * (1/24/60/60)\n",
    "    return {'hour': int(hour), 'minute': int(minute), 'second': int(second)}\n",
    "\n",
    "def solar_elevation(lat: float, long_: float, year: int, month: int, day: int, timezone: float):\n",
    "    \"\"\"\n",
    "    Reproduces calculation for solar elevation as provided in\n",
    "    https://gml.noaa.gov/grad/solcalc/calcdetails.html\n",
    "    General > NOAA_Solar_Calculations_day.xls\n",
    "    \"\"\"\n",
    "    # [D] Date\n",
    "    date_as_excel_number = (datetime.datetime(year, month, day) - datetime.datetime(1899,12,30)).days\n",
    "    # date_as_excel_number = (datetime.datetime(year, month, day) - datetime.datetime(1899, 12, 31)).days\n",
    "\n",
    "    # [E] Time (past local midnight)\n",
    "    time_past_midnight = 0.1/24\n",
    "\n",
    "    # [F] Julian Day\n",
    "    julian_day = date_as_excel_number + 2415018.5 + time_past_midnight - timezone/24\n",
    "\n",
    "    # [G] Julian Century\n",
    "    julian_century = (julian_day - 2451545)/36525\n",
    "\n",
    "    # [I] Geom Mean Long Sun (deg)\n",
    "    geom_mean_long_sun = (280.46646 + julian_century * (36000.76983 + julian_century * 0.0003032)) % 360\n",
    "\n",
    "    # [J] Geom Mean Anom Sun (deg)\n",
    "    geom_mean_anom_sun = 357.52911 + julian_century * (35999.05029 - 0.0001537 * julian_century)\n",
    "\n",
    "    # [K] Eccent Earth Orbit\n",
    "    eccent_earth_orbit = 0.016708634-julian_century*(0.000042037+0.0000001267*julian_century)\n",
    "\n",
    "    # [L] Sun Eq of Ctr\n",
    "    sun_eq_of_ctr = np.sin(to_rads(geom_mean_anom_sun))*(1.914602-julian_century*(0.004817+0.000014*julian_century))+np.sin(to_rads(2*geom_mean_anom_sun))*(0.019993-0.000101*julian_century)+np.sin(to_rads(3*geom_mean_anom_sun))*0.000289\n",
    "\n",
    "    # [M] Sun True Long (deg)\n",
    "    sun_true_long = geom_mean_long_sun + sun_eq_of_ctr\n",
    "\n",
    "    # [N] Sun True Anom (deg)\n",
    "    sun_true_anom = geom_mean_anom_sun + sun_eq_of_ctr\n",
    "\n",
    "    # [O] Sun rad vector (AUs)\n",
    "    sun_rad_vector = (1.000001018*(1-eccent_earth_orbit ** 2))/(1+eccent_earth_orbit*np.cos(to_rads(sun_true_anom)))\n",
    "\n",
    "    # [P] Sun App Long (deg)\n",
    "    sun_app_long = sun_true_long-0.00569-0.00478*np.sin(to_rads(125.04-1934.136*julian_century))\n",
    "\n",
    "    # [Q] Mean Obliq Ecliptic (deg)\n",
    "    mean_obliq_ecliptic = 23+(26+((21.448-julian_century*(46.815+julian_century*(0.00059-julian_century*0.001813))))/60)/60\n",
    "\n",
    "    # [R] Obliq Corr (deg)\n",
    "    obliq_corr = mean_obliq_ecliptic+0.00256*np.cos(to_rads(125.04-1934.136*julian_century))\n",
    "\n",
    "    # [S] Sun Rt Ascen (deg)\n",
    "    sun_rt_ascen = to_degs(np.arctan2(np.cos(to_rads(sun_app_long)),np.cos(to_rads(obliq_corr))*np.sin(to_rads(sun_app_long))))\n",
    "\n",
    "    # [T] Sun Declin (deg)\n",
    "    sun_declin = to_degs(np.arcsin(np.sin(to_rads(obliq_corr))*np.sin(to_rads(sun_app_long))))\n",
    "\n",
    "    # [U] var y\n",
    "    var_y = np.tan(to_rads(obliq_corr/2))*np.tan(to_rads(obliq_corr/2))\n",
    "\n",
    "    # [V] eq of time (minutes)\n",
    "    eq_of_time = 4*to_degs(var_y*np.sin(2*to_rads(geom_mean_long_sun))-2*eccent_earth_orbit*np.sin(to_rads(geom_mean_anom_sun))+4*eccent_earth_orbit*var_y*np.sin(to_rads(geom_mean_anom_sun))*np.cos(2*to_rads(geom_mean_long_sun))-0.5*var_y*var_y*np.sin(4*to_rads(geom_mean_long_sun))-1.25*eccent_earth_orbit*eccent_earth_orbit*np.sin(2*to_rads(geom_mean_anom_sun)))\n",
    "\n",
    "    # [W] HA sunrise (deg)\n",
    "    ha_sunrise = to_degs(np.arccos(np.cos(to_rads(90.833))/(np.cos(to_rads(lat))*np.cos(to_rads(sun_declin)))-np.tan(to_rads(lat))*np.tan(to_rads(sun_declin))))\n",
    "    if np.isnan(ha_sunrise):\n",
    "        ha_sunrise = 0\n",
    "\n",
    "    # [X] Solar noon (LST)\n",
    "    solar_noon = (720-4*long_-eq_of_time+timezone*60)/1440\n",
    "\n",
    "    # [Y] Sunrise time (LST)\n",
    "    sunrise_time = solar_noon-ha_sunrise*4/1440\n",
    "\n",
    "    # [Z] Sunset time (LST)\n",
    "    sunset_time = solar_noon+ha_sunrise*4/1440\n",
    "\n",
    "    # [AA] Sunlight duration (minutes)\n",
    "    sunlight_duration = 8 * ha_sunrise\n",
    "\n",
    "    # [AB] True solar time (min)\n",
    "    true_solar_time = (time_past_midnight*1440+eq_of_time+4*long_-60*timezone) % 1440\n",
    "\n",
    "    # [AC] Hour angle (deg)\n",
    "    hour_angle = (true_solar_time/4+180) if (true_solar_time<0) else (true_solar_time/4-180)\n",
    "\n",
    "    # [AD] Solar Zenith Angle (deg)\n",
    "    solar_zenith_angle = to_degs(np.arccos(np.sin(to_rads(lat))*np.sin(to_rads(sun_declin))+np.cos(to_rads(lat))*np.cos(to_rads(sun_declin))*np.cos(to_rads(hour_angle))))\n",
    "\n",
    "    # [AE] Solar Elevation Angle (deg)\n",
    "    solar_elevation_angle = 90 - solar_zenith_angle\n",
    "\n",
    "    # [AF] Approx atmospheric refraction\n",
    "    \"\"\"\n",
    "    IF(\n",
    "        AE2>85,\n",
    "        0,\n",
    "        IF(\n",
    "            AE2>5,\n",
    "            58.1/TAN(RADIANS(AE2))-0.07/POWER(TAN(RADIANS(AE2)),3)+0.000086/POWER(TAN(RADIANS(AE2)),5),\n",
    "            IF(\n",
    "                AE2>-0.575,\n",
    "                1735+AE2*(-518.2+AE2*(103.4+AE2*(-12.79+AE2*0.711))),\n",
    "                -20.772/TAN(RADIANS(AE2))\n",
    "            )\n",
    "        )\n",
    "    )/3600\n",
    "    \"\"\"\n",
    "    if solar_elevation_angle > 85:\n",
    "        approx_atmospheric_refraction = 0\n",
    "    elif solar_elevation_angle > 5:\n",
    "        approx_atmospheric_refraction = 58.1/np.tan(to_rads(solar_elevation_angle))-0.07/np.power(np.tan(to_rads(solar_elevation_angle)),3)+0.000086/np.power(np.tan(to_rads(solar_elevation_angle)),5)\n",
    "    elif solar_elevation_angle > -0.575:\n",
    "        approx_atmospheric_refraction = 1735+solar_elevation_angle*(-518.2+solar_elevation_angle*(103.4+solar_elevation_angle*(-12.79+solar_elevation_angle*0.711)))\n",
    "    else:\n",
    "        approx_atmospheric_refraction = -20.772/np.tan(to_rads(solar_elevation_angle))\n",
    "    approx_atmospheric_refraction /= 3600\n",
    "\n",
    "    # [AG] Solar elevation, refraction corrected (deg)\n",
    "    solar_elevation_corrected = solar_elevation_angle + approx_atmospheric_refraction\n",
    "\n",
    "    # [AH] Solar azimuth angle (deg)\n",
    "    # solar_azimuth_angle = didn't bother with this one...\n",
    "\n",
    "    results = {\n",
    "        'sunrise': datetime.datetime(year, month, day, **decimal_to_hms(sunrise_time)),\n",
    "        'sunset': datetime.datetime(year, month, day, **decimal_to_hms(sunset_time)),\n",
    "        'sun_duration (hrs)': sunlight_duration/60,\n",
    "    }\n",
    "    return results"
   ],
   "outputs": [],
   "metadata": {}
  },
  {
   "cell_type": "code",
   "execution_count": 130,
   "source": [
    "solar_elevation(-76.7899344,-1,2021,8,15,0)"
   ],
   "outputs": [
    {
     "output_type": "execute_result",
     "data": {
      "text/plain": [
       "{'sunrise': datetime.datetime(2021, 8, 15, 12, 8, 31),\n",
       " 'sunset': datetime.datetime(2021, 8, 15, 12, 8, 34),\n",
       " 'sun_duration (hrs)': 0.0007272516778463487}"
      ]
     },
     "metadata": {},
     "execution_count": 130
    }
   ],
   "metadata": {}
  }
 ],
 "metadata": {
  "orig_nbformat": 4,
  "language_info": {
   "name": "python",
   "version": "3.7.3",
   "mimetype": "text/x-python",
   "codemirror_mode": {
    "name": "ipython",
    "version": 3
   },
   "pygments_lexer": "ipython3",
   "nbconvert_exporter": "python",
   "file_extension": ".py"
  },
  "kernelspec": {
   "name": "python3",
   "display_name": "Python 3.7.3 64-bit ('sunshine-env': venv)"
  },
  "interpreter": {
   "hash": "232921740d226b8bda8c506cabcc9cd4013fe622b985145176539dca66f1fe96"
  }
 },
 "nbformat": 4,
 "nbformat_minor": 2
}